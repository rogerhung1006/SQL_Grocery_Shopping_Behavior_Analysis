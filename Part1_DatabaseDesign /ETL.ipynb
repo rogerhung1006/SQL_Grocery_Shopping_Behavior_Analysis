{
 "cells": [
  {
   "cell_type": "code",
   "execution_count": 1,
   "metadata": {},
   "outputs": [],
   "source": [
    "import datetime\n",
    "import numpy as np\n",
    "import pandas as pd\n",
    "import mysql.connector\n",
    "from sqlalchemy import create_engine\n",
    "from IPython.display import display\n",
    "\n",
    "pd.set_option('display.float_format', lambda x: '%.3f' % x)"
   ]
  },
  {
   "cell_type": "code",
   "execution_count": 2,
   "metadata": {},
   "outputs": [],
   "source": [
    "import logging\n",
    "logging.basicConfig(level = logging.INFO, format = '[%(asctime)s][%(levelname)s] %(message)s')\n",
    "logger = logging.getLogger(__name__)"
   ]
  },
  {
   "cell_type": "code",
   "execution_count": 50,
   "metadata": {
    "scrolled": true
   },
   "outputs": [],
   "source": [
    "def read_file(file_list):\n",
    "    return [pd.read_csv(file_name+'.csv', iterator=True) for file_name in file_list]\n",
    "\n",
    "def pd_engine(db_name='db_consumer_panel'):\n",
    "    user = input('Username: ')\n",
    "    password = input('Password: ')\n",
    "    return create_engine(\n",
    "        'mysql+mysqlconnector://%s:%s@127.0.0.1:3306/%s' % (user, password, db_name), \n",
    "        connect_args={'auth_plugin': 'mysql_native_password'}\n",
    "    )\n",
    "\n",
    "def load_file(engine, file_list, table_list, chunk_size=30000):\n",
    "    dta_list = read_file(file_list)\n",
    "    connection = engine.connect()\n",
    "    for file, table, dta in zip(file_list, table_list, dta_list):\n",
    "        count = 0\n",
    "        logger.info('Loading from %s to %s...' % (file, table))\n",
    "        connection.execute('DELETE FROM %s'%table)\n",
    "        while True:\n",
    "            try:\n",
    "                dta_chunk = dta.get_chunk(chunk_size).drop(columns='Unnamed: 0')\n",
    "                print(' - Loading %s-%s' % (count+1, count+chunk_size), end='')\n",
    "                dta_chunk.to_sql(table, engine, index=False, if_exists='append')\n",
    "                count += chunk_size\n",
    "                print('\\r', end='', flush=True)\n",
    "            except StopIteration:\n",
    "                logger.info(' # %s completed, with %s lines.' % (file, count-chunk_size+len(dta_chunk)))\n",
    "                break\n",
    "    return dta_chunk"
   ]
  },
  {
   "cell_type": "code",
   "execution_count": 6,
   "metadata": {},
   "outputs": [
    {
     "name": "stdout",
     "output_type": "stream",
     "text": [
      "Username: Jimmy\n",
      "Password: ^Y&U*I9o0p-=\n"
     ]
    }
   ],
   "source": [
    "engine = pd_engine()"
   ]
  },
  {
   "cell_type": "code",
   "execution_count": null,
   "metadata": {
    "scrolled": true
   },
   "outputs": [],
   "source": [
    "table_list = ['raw_data_households', 'raw_data_products', 'raw_data_purchases', 'raw_data_trips']\n",
    "file_list = ['dta_at_hh', 'dta_at_prod_id', 'dta_at_TC_upc', 'dta_at_TC']\n",
    "\n",
    "debug = load_file(engine, file_list, table_list, chunk_size=40000)"
   ]
  },
  {
   "cell_type": "code",
   "execution_count": null,
   "metadata": {},
   "outputs": [],
   "source": []
  }
 ],
 "metadata": {
  "kernelspec": {
   "display_name": "Python 3",
   "language": "python",
   "name": "python3"
  },
  "language_info": {
   "codemirror_mode": {
    "name": "ipython",
    "version": 3
   },
   "file_extension": ".py",
   "mimetype": "text/x-python",
   "name": "python",
   "nbconvert_exporter": "python",
   "pygments_lexer": "ipython3",
   "version": "3.7.1"
  },
  "toc": {
   "base_numbering": 1,
   "nav_menu": {},
   "number_sections": true,
   "sideBar": true,
   "skip_h1_title": false,
   "title_cell": "Table of Contents",
   "title_sidebar": "Contents",
   "toc_cell": false,
   "toc_position": {},
   "toc_section_display": true,
   "toc_window_display": false
  }
 },
 "nbformat": 4,
 "nbformat_minor": 2
}
